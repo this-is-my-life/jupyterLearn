{
 "cells": [
  {
   "cell_type": "markdown",
   "metadata": {},
   "source": [
    "### Basic(?) Hello world program\n",
    "이 노트북은 JavaScirpt에서 메세지를 출력하는 방법을 서술합니다"
   ]
  },
  {
   "cell_type": "code",
   "execution_count": null,
   "metadata": {},
   "outputs": [],
   "source": [
    "console.log('Hello, world!')"
   ]
  },
  {
   "cell_type": "code",
   "execution_count": null,
   "metadata": {},
   "outputs": [],
   "source": [
    "console['log']('Hello, world!')"
   ]
  },
  {
   "cell_type": "code",
   "execution_count": null,
   "metadata": {},
   "outputs": [],
   "source": [
    "globalThis['console']['log']('Hello, world!')"
   ]
  },
  {
   "cell_type": "code",
   "execution_count": null,
   "metadata": {},
   "outputs": [],
   "source": [
    "function f (c) {\n",
    "    c('Hello, world!')\n",
    "}\n",
    "\n",
    "f(console.log)"
   ]
  },
  {
   "cell_type": "code",
   "execution_count": null,
   "metadata": {},
   "outputs": [],
   "source": [
    "((w)=>{w('Hello, world!')})(console.log)"
   ]
  },
  {
   "cell_type": "code",
   "execution_count": null,
   "metadata": {},
   "outputs": [],
   "source": [
    "(w=>w('Hello, world!'))(console.log)"
   ]
  },
  {
   "cell_type": "code",
   "execution_count": null,
   "metadata": {},
   "outputs": [],
   "source": [
    "($=>$('Hello, world!'))(console.log)"
   ]
  },
  {
   "cell_type": "code",
   "execution_count": null,
   "metadata": {},
   "outputs": [],
   "source": [
    "(($,_)=>$(_))(console.log,'Hello, world!')"
   ]
  },
  {
   "cell_type": "code",
   "execution_count": null,
   "metadata": {},
   "outputs": [],
   "source": [
    "(($,_,w)=>$[w](_))(console,'Hello, world!','log')"
   ]
  },
  {
   "cell_type": "code",
   "execution_count": null,
   "metadata": {},
   "outputs": [],
   "source": [
    "(($,_,w,c)=>c[$][w](_))('console','Hello, world!','log',globalThis)"
   ]
  },
  {
   "cell_type": "code",
   "execution_count": null,
   "metadata": {},
   "outputs": [],
   "source": [
    "(($,_,w,c,p)=>c[$][w](p(_)))('console','Hello, world!','log',globalThis,p=>p)"
   ]
  },
  {
   "cell_type": "code",
   "execution_count": null,
   "metadata": {},
   "outputs": [],
   "source": [
    "(($,_,w,c,p,a)=>c[$][w](p($)[a]($,_)))('console','Hello, world!','log',globalThis,p=>p,'replace')"
   ]
  },
  {
   "cell_type": "code",
   "execution_count": null,
   "metadata": {},
   "outputs": [],
   "source": [
    "(($,_,w,c,p,a)=>c[p($)][w](p($)[a](l,_)))('console','Hello, world!','log',globalThis,p=>{l=p;return p},'replace')"
   ]
  },
  {
   "cell_type": "code",
   "execution_count": null,
   "metadata": {},
   "outputs": [],
   "source": [
    "(($,_,w,c,p,a,r)=>c[p($)][w](p($)[a](c[r],_)))\n",
    "('console','Hello, world!','log',globalThis,p=>{l=p;return p},'replace','l')"
   ]
  },
  {
   "cell_type": "code",
   "execution_count": null,
   "metadata": {},
   "outputs": [],
   "source": [
    "(($,_,w,c,p,a,r)=>c[p($)][w](p($)[a](c[$[r]],_)))\n",
    "('console','Hello, world!','log',globalThis,p=>{l=p;return p},'replace',5)"
   ]
  },
  {
   "cell_type": "code",
   "execution_count": null,
   "metadata": {},
   "outputs": [],
   "source": [
    "(()=>(($,_,w,c,p,a,r)=>c[p($)][w](p($)[a](c[$[r]],_)))\n",
    "('console','Hello, world!','log',globalThis,p=>{l=p;return p},'replace',5))()"
   ]
  },
  {
   "cell_type": "code",
   "execution_count": null,
   "metadata": {},
   "outputs": [],
   "source": [
    "((p,a,r)=>(($,_,w,c)=>c[p($)][w](p($)[a](c[$[r]],_)))\n",
    "('console','Hello, world!','log',globalThis))\n",
    "(p=>{l=p;return p},'replace',5)"
   ]
  },
  {
   "cell_type": "code",
   "execution_count": null,
   "metadata": {},
   "outputs": [],
   "source": []
  },
  {
   "cell_type": "code",
   "execution_count": null,
   "metadata": {},
   "outputs": [],
   "source": []
  }
 ],
 "metadata": {
  "kernelspec": {
   "display_name": "Javascript (Node.js)",
   "language": "javascript",
   "name": "javascript"
  },
  "language_info": {
   "file_extension": ".js",
   "mimetype": "application/javascript",
   "name": "javascript",
   "version": "12.16.2"
  }
 },
 "nbformat": 4,
 "nbformat_minor": 4
}
